{
  "nbformat": 4,
  "nbformat_minor": 0,
  "metadata": {
    "colab": {
      "name": "diamonds.ipynb",
      "provenance": [],
      "collapsed_sections": [],
      "authorship_tag": "ABX9TyOUJMf5NAyrO+HDOHkiRzcM",
      "include_colab_link": true
    },
    "kernelspec": {
      "name": "ir",
      "display_name": "R"
    },
    "language_info": {
      "name": "R"
    }
  },
  "cells": [
    {
      "cell_type": "markdown",
      "metadata": {
        "id": "view-in-github",
        "colab_type": "text"
      },
      "source": [
        "<a href=\"https://colab.research.google.com/github/KuoLiang/textpy/blob/main/diamonds.ipynb\" target=\"_parent\"><img src=\"https://colab.research.google.com/assets/colab-badge.svg\" alt=\"Open In Colab\"/></a>"
      ]
    },
    {
      "cell_type": "code",
      "metadata": {
        "colab": {
          "base_uri": "https://localhost:8080/",
          "height": 425
        },
        "id": "NRSGGeZPXjZN",
        "outputId": "2a557080-3b4c-42ad-a863-29b7fdf421e0"
      },
      "source": [
        "library(ggplot2)\n",
        "data(diamonds)\n",
        "summary(diamonds)"
      ],
      "execution_count": null,
      "outputs": [
        {
          "output_type": "display_data",
          "data": {
            "text/plain": [
              "     carat               cut        color        clarity          depth      \n",
              " Min.   :0.2000   Fair     : 1610   D: 6775   SI1    :13065   Min.   :43.00  \n",
              " 1st Qu.:0.4000   Good     : 4906   E: 9797   VS2    :12258   1st Qu.:61.00  \n",
              " Median :0.7000   Very Good:12082   F: 9542   SI2    : 9194   Median :61.80  \n",
              " Mean   :0.7979   Premium  :13791   G:11292   VS1    : 8171   Mean   :61.75  \n",
              " 3rd Qu.:1.0400   Ideal    :21551   H: 8304   VVS2   : 5066   3rd Qu.:62.50  \n",
              " Max.   :5.0100                     I: 5422   VVS1   : 3655   Max.   :79.00  \n",
              "                                    J: 2808   (Other): 2531                  \n",
              "     table           price             x                y         \n",
              " Min.   :43.00   Min.   :  326   Min.   : 0.000   Min.   : 0.000  \n",
              " 1st Qu.:56.00   1st Qu.:  950   1st Qu.: 4.710   1st Qu.: 4.720  \n",
              " Median :57.00   Median : 2401   Median : 5.700   Median : 5.710  \n",
              " Mean   :57.46   Mean   : 3933   Mean   : 5.731   Mean   : 5.735  \n",
              " 3rd Qu.:59.00   3rd Qu.: 5324   3rd Qu.: 6.540   3rd Qu.: 6.540  \n",
              " Max.   :95.00   Max.   :18823   Max.   :10.740   Max.   :58.900  \n",
              "                                                                  \n",
              "       z         \n",
              " Min.   : 0.000  \n",
              " 1st Qu.: 2.910  \n",
              " Median : 3.530  \n",
              " Mean   : 3.539  \n",
              " 3rd Qu.: 4.040  \n",
              " Max.   :31.800  \n",
              "                 "
            ]
          },
          "metadata": {}
        }
      ]
    }
  ]
}